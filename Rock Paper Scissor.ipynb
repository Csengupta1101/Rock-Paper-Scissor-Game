{
 "cells": [
  {
   "cell_type": "code",
   "execution_count": 14,
   "id": "712b975f",
   "metadata": {},
   "outputs": [
    {
     "name": "stdout",
     "output_type": "stream",
     "text": [
      "Comp Turn: Rock(R) Paper(P) or Scissor(S)?\n",
      "Comp Turn: Rock(R) Paper(P) or Scissor(S)?R\n",
      "Computer chose S\n",
      "You chose R\n",
      "You Win!\n"
     ]
    }
   ],
   "source": [
    "import random\n",
    "\n",
    "#Rock Paper Scissors\n",
    "def gameWin(comp, you):\n",
    "    # If two values are equal, declare a tie!\n",
    "    if comp == you:\n",
    "        return None\n",
    "\n",
    "    # Check for all possibilities when computer chose R\n",
    "    elif comp == 'R':\n",
    "        if you=='S':\n",
    "            return False\n",
    "        elif you=='P':\n",
    "            return True\n",
    "    \n",
    "    # Check for all possibilities when computer chose P\n",
    "    elif comp == 'P':\n",
    "        if you=='S':\n",
    "            return False\n",
    "        elif you=='R':\n",
    "            return True\n",
    "    \n",
    "    # Check for all possibilities when computer chose S\n",
    "    elif comp == 'S':\n",
    "        if you=='P':\n",
    "            return False\n",
    "        elif you=='R':\n",
    "            return True\n",
    "\n",
    "print(\"Comp Turn: Rock(R) Paper(P) or Scissor(S)?\")\n",
    "randNo = random.randint(1, 3) \n",
    "if randNo == 1:\n",
    "    comp = 'R'\n",
    "elif randNo == 2:\n",
    "    comp = 'P'\n",
    "elif randNo == 3:\n",
    "    comp = 'S'\n",
    "\n",
    "you = input(\"Comp Turn: Rock(R) Paper(P) or Scissor(S)?\")\n",
    "a = gameWin(comp, you)\n",
    "\n",
    "print(f\"Computer chose {comp}\")\n",
    "print(f\"You chose {you}\")\n",
    "\n",
    "if a == None:\n",
    "    print(\"The game is a tie!\")\n",
    "elif a:\n",
    "    print(\"You Win!\")\n",
    "else:\n",
    "    print(\"You Lose!\")"
   ]
  },
  {
   "cell_type": "code",
   "execution_count": null,
   "id": "97d78230",
   "metadata": {},
   "outputs": [],
   "source": []
  },
  {
   "cell_type": "code",
   "execution_count": null,
   "id": "b3075df9",
   "metadata": {},
   "outputs": [],
   "source": []
  }
 ],
 "metadata": {
  "kernelspec": {
   "display_name": "Python 3",
   "language": "python",
   "name": "python3"
  },
  "language_info": {
   "codemirror_mode": {
    "name": "ipython",
    "version": 3
   },
   "file_extension": ".py",
   "mimetype": "text/x-python",
   "name": "python",
   "nbconvert_exporter": "python",
   "pygments_lexer": "ipython3",
   "version": "3.6.8"
  }
 },
 "nbformat": 4,
 "nbformat_minor": 5
}
